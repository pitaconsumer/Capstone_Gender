{
 "cells": [
  {
   "cell_type": "markdown",
   "metadata": {},
   "source": [
    "Title: Gender Inequality Index: Indicators of Political, Social, and Economic Success"
   ]
  },
  {
   "cell_type": "markdown",
   "metadata": {},
   "source": [
    "As of December 2019, Finland elected female Prime Minister Sanna Marina, thereby ranking 1st in the world in electing a women-led government. Finland ranks 8th in the United Nations latest global indicators: the Gender Inequality Index with a score of .058. (Switzerland ranks first in GII globally.) Meanwhile many of the Middle East & North African (MENA) countries have elected women parliamentarians, or appointed women ministers, only the Arab monarchies broke into the top 50 regarding its GII score: 1) Qatar (44th place with a score of .206); 2) Bahrain (47th place with a score of .222); 3) United Arab Emirates (49th place with a score of .232); and 4) Saudi Arabia (50th place with a score of .234). \n",
    "\n",
    "As such, Forbes Magazine argues that this highly-developed, socially-democratic economy elected its youngest female Prime Minister--along with the coalition government's four other parties each led by a woman-- because of its success in advancing gender equality. Five women leading Finland's coalition government prompt many questions about the relative factors of gender, education, political participation, civic engagement, access to information, and organizational development support. Each relate to economics development.  But does advanced economic development drive gender equality, or does gender equality drive economic development? (Source: Forbes Magazine https://www.forbes.com/sites/carmenniethammer/2019/12/12/finlands-new-government-is-young-and-led-by-women-heres-what-the-country-does-to-promote-diversity/#16dcda3235aa)\n",
    "\n",
    "Objective: To use the Gender Inequality Index from the United Nations Data set to answer analytical questions \n",
    "regarding women's political participation. For the purpose of this analysis, we will use \"Human Development Index\" to indicate the multi-dimensional aspects (health, Gross Domestic Product, and eduction) of economic development of a country's success. \n",
    "\n",
    "“Gender equality, equality between men and women…does not mean that women and men have to become the same, but that their rights, responsibilities and opportunities will not depend on whether they were born male or female. Gender equity means fairness of treatment for men and women according to their respective needs. This may include equal treatment or treatment that is different but which is considered equivalent in terms of rights, benefits, obligations, and opportunities.” –United Nations Educational, Scientific and Cultural Organization (UNESDOC)\n",
    "\n",
    "\n",
    "Note: We will define 'gender equity’ and 'gender inequality' as they are distinct and not interchangeable. (Source: https://www.pipelineequity.com/voices-for-equity/gender-equity-vs-gender-equality/) For the purposes of this analysis, we will use the term \"gender equity' to reference other columns/indices in the data set that represent health, cultural, educational, institutional marks of women's status in country: \n",
    " \"Internet users, female (% of female population)\"              \n",
    " \"Number of Women’s Orgs\" \n",
    " \"Maternal mortality ratio\"\n",
    " \"Share of seats in parliament\"                                \n",
    " \"Female Population with at least some secondary education\"\n",
    " \"Female Labour force participation rate\"\n",
    "\n",
    "\n",
    "Gender Equality: the end goal.\n",
    "Gender Equity: the means to get there.\n",
    "\n",
    "The capstone project primarily uses data from the the United Nations (UN) and added two additional columns of women's data from outside source. Specifically, the additional column \"Number of Women's Orgs\" represents the point of view that women's organizations in country represent the political, social, and cultural status of women to participate and organize. This data is self reporting and comes from Wikipedia. As such the limitation of the data is that it is self reporting and introduces bias. Also, not every organization was vetted before getting listed. \n",
    "\n",
    "Furthermore, this project added the second column, \"Internet users, female (% of female population)\", to recognize the impact technology has on information, education access and civic engagement for women in country. The Gender Inequality Index does not review women's access to safe transportation, acknowledge the harassment environment, nor the (im)mobility of women to commute for work or civic activities. The internet serves as an alternate form for employment, civic and political engagement. Therefore, we pulled data from another UN data set to represent \"Mobility & Communication\". (Source: http://hdr.undp.org/en/data#) For consistency, I drew data from the United Nations database for the same year the capstone accessed from the GII report, 2017.\n",
    "\n",
    "Since 1990, the UN has compiled a yearly data set of the Human Development Index covering 187 member countries. In 2011, the GII emerged as part of the Human Development story to highlight the loss of country achievement based on women's status (or lack of equality, e.g. participation in labor markets). The GII ranges between 0 and 1. So lower GII values indicate lower inequalities between women and men and thus lower loss to human development. Currently, only 161 countries are represented by the GII and make up our sample for the capstone project.  Source: http://hdr.undp.org/en/faq-page/gender-inequality-index-gii  \n",
    "\n",
    "I chose a UN data set compilation focusing on the Gender Inequality Index (GII) because this is used to inform the Human Development Report, which relies on the Human Development Index (HDI). As the Founder of the political-economy blog, PITAPOLICY, I am interested in factors that impact the human development story in a diverse region encompassing various ethnicities, religions, politics, resources, and human capital potential. This region stretches from Morocco; North to non-Arab Turkey; across the Levant Arab Gulf, and Iraq; and into non-Arab mountainous areas north of the Arabian Sea of Iran, Afghanistan and Pakistan. PITAPOLICY covers and stands for Politics, Impact, Technology, and Analysis for the Middle East & North Africa region (MENA)--or \"countries that consume pita bread\"-I chose a UN data set compilation focusing on the Gender Inequality Index because this is used to inform the Human Development Report, which relies on the Human Development Index (HDI). \n",
    "\n",
    "PITAPOLICY has researched refugee rights, social capital, and entrepreneurship development in authoritarian and post-conflict countries. Ultimately, the questions of development look at women's pace in human and social capital development. PITAPOLICY welcomes GII as a starting point for these discussions. HDI and GII are composite indices, which could produce redundant information. This capstone will test assumptions about how gender inequality adversely impacts women's participation and status."
   ]
  },
  {
   "cell_type": "code",
   "execution_count": 55,
   "metadata": {},
   "outputs": [
    {
     "data": {
      "text/html": [
       "<div>\n",
       "<style scoped>\n",
       "    .dataframe tbody tr th:only-of-type {\n",
       "        vertical-align: middle;\n",
       "    }\n",
       "\n",
       "    .dataframe tbody tr th {\n",
       "        vertical-align: top;\n",
       "    }\n",
       "\n",
       "    .dataframe thead th {\n",
       "        text-align: right;\n",
       "    }\n",
       "</style>\n",
       "<table border=\"1\" class=\"dataframe\">\n",
       "  <thead>\n",
       "    <tr style=\"text-align: right;\">\n",
       "      <th></th>\n",
       "      <th>HDI Rank</th>\n",
       "      <th>Category</th>\n",
       "      <th>Country</th>\n",
       "      <th>Gender Inequality Index</th>\n",
       "      <th>Gender Inequality Index Rank</th>\n",
       "      <th>Maternal mortality ratio</th>\n",
       "      <th>Adolescent birth rate</th>\n",
       "      <th>Internet users, female (% of female population)</th>\n",
       "      <th>Number of Women’s Orgs</th>\n",
       "      <th>Share of seats in parliament</th>\n",
       "      <th>Female Population with at least some secondary education</th>\n",
       "      <th>Male Population with at least some secondary education</th>\n",
       "      <th>Female Labour force participation rate</th>\n",
       "      <th>Male Labor Force Participation Rate</th>\n",
       "    </tr>\n",
       "  </thead>\n",
       "  <tbody>\n",
       "    <tr>\n",
       "      <td>0</td>\n",
       "      <td>168</td>\n",
       "      <td>Low</td>\n",
       "      <td>Afghanistan</td>\n",
       "      <td>0.653</td>\n",
       "      <td>153</td>\n",
       "      <td>396</td>\n",
       "      <td>64.5</td>\n",
       "      <td>0.59</td>\n",
       "      <td>7.0</td>\n",
       "      <td>27.4</td>\n",
       "      <td>11.4</td>\n",
       "      <td>36.9</td>\n",
       "      <td>19.5</td>\n",
       "      <td>86.7</td>\n",
       "    </tr>\n",
       "    <tr>\n",
       "      <td>1</td>\n",
       "      <td>68</td>\n",
       "      <td>High</td>\n",
       "      <td>Albania</td>\n",
       "      <td>0.238</td>\n",
       "      <td>52</td>\n",
       "      <td>29</td>\n",
       "      <td>20.7</td>\n",
       "      <td>0.236</td>\n",
       "      <td>1.0</td>\n",
       "      <td>27.9</td>\n",
       "      <td>93.1</td>\n",
       "      <td>92.8</td>\n",
       "      <td>47.2</td>\n",
       "      <td>64.9</td>\n",
       "    </tr>\n",
       "    <tr>\n",
       "      <td>2</td>\n",
       "      <td>85</td>\n",
       "      <td>High</td>\n",
       "      <td>Algeria</td>\n",
       "      <td>0.442</td>\n",
       "      <td>100</td>\n",
       "      <td>140</td>\n",
       "      <td>10.1</td>\n",
       "      <td>0.447</td>\n",
       "      <td>0.0</td>\n",
       "      <td>21.3</td>\n",
       "      <td>37.5</td>\n",
       "      <td>37.9</td>\n",
       "      <td>15.2</td>\n",
       "      <td>67.3</td>\n",
       "    </tr>\n",
       "    <tr>\n",
       "      <td>3</td>\n",
       "      <td>47</td>\n",
       "      <td>Very high</td>\n",
       "      <td>Argentina</td>\n",
       "      <td>0.358</td>\n",
       "      <td>81</td>\n",
       "      <td>52</td>\n",
       "      <td>62.8</td>\n",
       "      <td>0.355</td>\n",
       "      <td>4.0</td>\n",
       "      <td>38.9</td>\n",
       "      <td>65.9</td>\n",
       "      <td>62.8</td>\n",
       "      <td>47.3</td>\n",
       "      <td>73.2</td>\n",
       "    </tr>\n",
       "    <tr>\n",
       "      <td>4</td>\n",
       "      <td>83</td>\n",
       "      <td>High</td>\n",
       "      <td>Armenia</td>\n",
       "      <td>0.262</td>\n",
       "      <td>55</td>\n",
       "      <td>25</td>\n",
       "      <td>23.2</td>\n",
       "      <td>0.263</td>\n",
       "      <td>0.0</td>\n",
       "      <td>18.1</td>\n",
       "      <td>96.9</td>\n",
       "      <td>97.6</td>\n",
       "      <td>51.4</td>\n",
       "      <td>70.6</td>\n",
       "    </tr>\n",
       "  </tbody>\n",
       "</table>\n",
       "</div>"
      ],
      "text/plain": [
       "   HDI Rank   Category      Country  Gender Inequality Index  \\\n",
       "0       168        Low  Afghanistan                    0.653   \n",
       "1        68       High      Albania                    0.238   \n",
       "2        85       High      Algeria                    0.442   \n",
       "3        47  Very high    Argentina                    0.358   \n",
       "4        83       High      Armenia                    0.262   \n",
       "\n",
       "   Gender Inequality Index Rank Maternal mortality ratio  \\\n",
       "0                           153                      396   \n",
       "1                            52                       29   \n",
       "2                           100                      140   \n",
       "3                            81                       52   \n",
       "4                            55                       25   \n",
       "\n",
       "   Adolescent birth rate Internet users, female (% of female population)  \\\n",
       "0                   64.5                                            0.59   \n",
       "1                   20.7                                           0.236   \n",
       "2                   10.1                                           0.447   \n",
       "3                   62.8                                           0.355   \n",
       "4                   23.2                                           0.263   \n",
       "\n",
       "   Number of Women’s Orgs  Share of seats in parliament  \\\n",
       "0                     7.0                          27.4   \n",
       "1                     1.0                          27.9   \n",
       "2                     0.0                          21.3   \n",
       "3                     4.0                          38.9   \n",
       "4                     0.0                          18.1   \n",
       "\n",
       "   Female Population with at least some secondary education  \\\n",
       "0                                               11.4          \n",
       "1                                               93.1          \n",
       "2                                               37.5          \n",
       "3                                               65.9          \n",
       "4                                               96.9          \n",
       "\n",
       "   Male Population with at least some secondary education  \\\n",
       "0                                               36.9        \n",
       "1                                               92.8        \n",
       "2                                               37.9        \n",
       "3                                               62.8        \n",
       "4                                               97.6        \n",
       "\n",
       "   Female Labour force participation rate   \\\n",
       "0                                     19.5   \n",
       "1                                     47.2   \n",
       "2                                     15.2   \n",
       "3                                     47.3   \n",
       "4                                     51.4   \n",
       "\n",
       "   Male Labor Force Participation Rate  \n",
       "0                                 86.7  \n",
       "1                                 64.9  \n",
       "2                                 67.3  \n",
       "3                                 73.2  \n",
       "4                                 70.6  "
      ]
     },
     "execution_count": 55,
     "metadata": {},
     "output_type": "execute_result"
    }
   ],
   "source": [
    "#Show Data from Gender Inequality Data set (GII) concatenates UN data and Female Internet Usage by Country\n",
    "import pandas as pd\n",
    "gender_file = '/Users/mehrunisaqayyum/Downloads/GII_Capstone.csv'\n",
    "df = pd.read_csv(gender_file)\n",
    "df.head()"
   ]
  },
  {
   "cell_type": "code",
   "execution_count": 33,
   "metadata": {},
   "outputs": [
    {
     "data": {
      "text/plain": [
       "Index(['HDI Rank', 'Category', 'Country', 'Gender Inequality Index',\n",
       "       'Gender Inequality Index Rank', 'Maternal mortality ratio',\n",
       "       'Adolescent birth rate',\n",
       "       'Internet users, female (% of female population)',\n",
       "       'Number of Women’s Orgs', 'Share of seats in parliament',\n",
       "       'Female Population with at least some secondary education',\n",
       "       'Male Population with at least some secondary education',\n",
       "       'Female Labour force participation rate ',\n",
       "       'Male Labor Force Participation Rate'],\n",
       "      dtype='object')"
      ]
     },
     "execution_count": 33,
     "metadata": {},
     "output_type": "execute_result"
    }
   ],
   "source": [
    "df.columns"
   ]
  },
  {
   "cell_type": "code",
   "execution_count": 34,
   "metadata": {},
   "outputs": [
    {
     "name": "stdout",
     "output_type": "stream",
     "text": [
      "<class 'pandas.core.frame.DataFrame'>\n",
      "RangeIndex: 160 entries, 0 to 159\n",
      "Data columns (total 14 columns):\n",
      "HDI Rank                                                    160 non-null int64\n",
      "Category                                                    160 non-null object\n",
      "Country                                                     160 non-null object\n",
      "Gender Inequality Index                                     160 non-null float64\n",
      "Gender Inequality Index Rank                                160 non-null int64\n",
      "Maternal mortality ratio                                    160 non-null object\n",
      "Adolescent birth rate                                       160 non-null float64\n",
      "Internet users, female (% of female population)             160 non-null object\n",
      "Number of Women’s Orgs                                      92 non-null float64\n",
      "Share of seats in parliament                                160 non-null float64\n",
      "Female Population with at least some secondary education    160 non-null float64\n",
      "Male Population with at least some secondary education      160 non-null float64\n",
      "Female Labour force participation rate                      160 non-null float64\n",
      "Male Labor Force Participation Rate                         160 non-null float64\n",
      "dtypes: float64(8), int64(2), object(4)\n",
      "memory usage: 17.6+ KB\n"
     ]
    }
   ],
   "source": [
    "df.info()"
   ]
  },
  {
   "cell_type": "code",
   "execution_count": 61,
   "metadata": {},
   "outputs": [],
   "source": [
    "# Convert \"Gender Inequality Index\" data type from object to numeric (float64)\n",
    "df['Gender Inequality Index'] = df['Gender Inequality Index'].astype(float, errors='ignore')"
   ]
  },
  {
   "cell_type": "code",
   "execution_count": 44,
   "metadata": {},
   "outputs": [
    {
     "name": "stdout",
     "output_type": "stream",
     "text": [
      "     HDI Rank   Category                             Country  \\\n",
      "0         168        Low                         Afghanistan   \n",
      "1          68       High                             Albania   \n",
      "2          85       High                             Algeria   \n",
      "3          47  Very high                           Argentina   \n",
      "4          83       High                             Armenia   \n",
      "..        ...        ...                                 ...   \n",
      "155        78       High  Venezuela (Bolivarian Republic of)   \n",
      "156       116     Medium                            Viet Nam   \n",
      "157       178        Low                               Yemen   \n",
      "158       144     Medium                              Zambia   \n",
      "159       156        Low                            Zimbabwe   \n",
      "\n",
      "     Gender Inequality Index  Gender Inequality Index Rank  \\\n",
      "0                      0.653                           153   \n",
      "1                      0.238                            52   \n",
      "2                      0.442                           100   \n",
      "3                      0.358                            81   \n",
      "4                      0.262                            55   \n",
      "..                       ...                           ...   \n",
      "155                    0.454                           105   \n",
      "156                    0.304                            67   \n",
      "157                    0.834                           160   \n",
      "158                    0.517                           125   \n",
      "159                    0.534                           128   \n",
      "\n",
      "    Maternal mortality ratio  Adolescent birth rate  \\\n",
      "0                        396                   64.5   \n",
      "1                         29                   20.7   \n",
      "2                        140                   10.1   \n",
      "3                         52                   62.8   \n",
      "4                         25                   23.2   \n",
      "..                       ...                    ...   \n",
      "155                       95                   85.3   \n",
      "156                       54                   27.3   \n",
      "157                      385                   60.4   \n",
      "158                      224                   82.8   \n",
      "159                      443                  104.1   \n",
      "\n",
      "     Internet users, female (% of female population)  Number of Women’s Orgs  \\\n",
      "0                                              0.590                     7.0   \n",
      "1                                              0.236                     1.0   \n",
      "2                                              0.447                     0.0   \n",
      "3                                              0.355                     4.0   \n",
      "4                                              0.263                     0.0   \n",
      "..                                               ...                     ...   \n",
      "155                                            0.459                     NaN   \n",
      "156                                            0.318                     NaN   \n",
      "157                                            0.835                     2.0   \n",
      "158                                            0.543                     1.0   \n",
      "159                                            0.528                     NaN   \n",
      "\n",
      "     Share of seats in parliament  \\\n",
      "0                            27.4   \n",
      "1                            27.9   \n",
      "2                            21.3   \n",
      "3                            38.9   \n",
      "4                            18.1   \n",
      "..                            ...   \n",
      "155                          22.2   \n",
      "156                          26.7   \n",
      "157                           0.5   \n",
      "158                          18.0   \n",
      "159                          36.2   \n",
      "\n",
      "     Female Population with at least some secondary education  \\\n",
      "0                                                 11.4          \n",
      "1                                                 93.1          \n",
      "2                                                 37.5          \n",
      "3                                                 65.9          \n",
      "4                                                 96.9          \n",
      "..                                                 ...          \n",
      "155                                               71.7          \n",
      "156                                               66.2          \n",
      "157                                               18.7          \n",
      "158                                               39.2          \n",
      "159                                               55.9          \n",
      "\n",
      "     Male Population with at least some secondary education  \\\n",
      "0                                                 36.9        \n",
      "1                                                 92.8        \n",
      "2                                                 37.9        \n",
      "3                                                 62.8        \n",
      "4                                                 97.6        \n",
      "..                                                 ...        \n",
      "155                                               66.6        \n",
      "156                                               77.7        \n",
      "157                                               34.8        \n",
      "158                                               52.4        \n",
      "159                                               66.3        \n",
      "\n",
      "     Female Labour force participation rate   \\\n",
      "0                                       19.5   \n",
      "1                                       47.2   \n",
      "2                                       15.2   \n",
      "3                                       47.3   \n",
      "4                                       51.4   \n",
      "..                                       ...   \n",
      "155                                     50.2   \n",
      "156                                     73.2   \n",
      "157                                      6.0   \n",
      "158                                     70.1   \n",
      "159                                     78.5   \n",
      "\n",
      "     Male Labor Force Participation Rate  \n",
      "0                                   86.7  \n",
      "1                                   64.9  \n",
      "2                                   67.3  \n",
      "3                                   73.2  \n",
      "4                                   70.6  \n",
      "..                                   ...  \n",
      "155                                 77.4  \n",
      "156                                 83.5  \n",
      "157                                 69.6  \n",
      "158                                 79.7  \n",
      "159                                 89.1  \n",
      "\n",
      "[160 rows x 14 columns]\n"
     ]
    },
    {
     "data": {
      "text/plain": [
       "HDI Rank                                                      int64\n",
       "Category                                                     object\n",
       "Country                                                      object\n",
       "Gender Inequality Index                                     float64\n",
       "Gender Inequality Index Rank                                  int64\n",
       "Maternal mortality ratio                                     object\n",
       "Adolescent birth rate                                       float64\n",
       "Internet users, female (% of female population)             float64\n",
       "Number of Women’s Orgs                                      float64\n",
       "Share of seats in parliament                                float64\n",
       "Female Population with at least some secondary education    float64\n",
       "Male Population with at least some secondary education      float64\n",
       "Female Labour force participation rate                      float64\n",
       "Male Labor Force Participation Rate                         float64\n",
       "dtype: object"
      ]
     },
     "execution_count": 44,
     "metadata": {},
     "output_type": "execute_result"
    }
   ],
   "source": [
    "#Need to convert object data type from 'Internet users, female (% of female population)'to numeric datatype\n",
    "\n",
    "df['Internet users, female (% of female population)'] = pd.to_numeric(df['Internet users, female (% of female population)'],errors='coerce')\n",
    "\n",
    "print(df)\n",
    "df.dtypes"
   ]
  },
  {
   "cell_type": "code",
   "execution_count": 45,
   "metadata": {},
   "outputs": [
    {
     "name": "stdout",
     "output_type": "stream",
     "text": [
      "<class 'pandas.core.frame.DataFrame'>\n",
      "RangeIndex: 160 entries, 0 to 159\n",
      "Data columns (total 14 columns):\n",
      "HDI Rank                                                    160 non-null int64\n",
      "Category                                                    160 non-null object\n",
      "Country                                                     160 non-null object\n",
      "Gender Inequality Index                                     160 non-null float64\n",
      "Gender Inequality Index Rank                                160 non-null int64\n",
      "Maternal mortality ratio                                    160 non-null object\n",
      "Adolescent birth rate                                       160 non-null float64\n",
      "Internet users, female (% of female population)             158 non-null float64\n",
      "Number of Women’s Orgs                                      92 non-null float64\n",
      "Share of seats in parliament                                160 non-null float64\n",
      "Female Population with at least some secondary education    160 non-null float64\n",
      "Male Population with at least some secondary education      160 non-null float64\n",
      "Female Labour force participation rate                      160 non-null float64\n",
      "Male Labor Force Participation Rate                         160 non-null float64\n",
      "dtypes: float64(9), int64(2), object(3)\n",
      "memory usage: 17.6+ KB\n"
     ]
    }
   ],
   "source": [
    "df.info()"
   ]
  },
  {
   "cell_type": "markdown",
   "metadata": {},
   "source": [
    "We saw in previous outputs that both 'Gender Inequality Index' and 'Rank' and'Female Labor Force...' data types were OBJECTS. We needed to convert into float or integers."
   ]
  },
  {
   "cell_type": "code",
   "execution_count": 67,
   "metadata": {},
   "outputs": [],
   "source": [
    "df['Internet users, female (% of female population)'] = pd.to_numeric(df['Internet users, female (% of female population)'],errors='coerce')\n"
   ]
  },
  {
   "cell_type": "code",
   "execution_count": 68,
   "metadata": {},
   "outputs": [
    {
     "data": {
      "text/plain": [
       "0.345392405063291"
      ]
     },
     "execution_count": 68,
     "metadata": {},
     "output_type": "execute_result"
    }
   ],
   "source": [
    "#Calculate the mean of 'Internet users, female'\n",
    "import statistics\n",
    "import numpy as np\n",
    "\n",
    "np.mean(df['Internet users, female (% of female population)'])\n",
    "\n",
    "#Mean of \"Internet users, female (% of female population\" is 0.34539"
   ]
  },
  {
   "cell_type": "markdown",
   "metadata": {},
   "source": [
    "We see that approximately 35 percent of the female global population use the internet for work, education, entertainment or civically engaging. This implies that women are not necessarily accessing the internet for information as much as men. "
   ]
  },
  {
   "cell_type": "code",
   "execution_count": null,
   "metadata": {},
   "outputs": [],
   "source": [
    "np.mean(df['Share of seats in parliament'])\n",
    "#Mean of Share of Seats is 22.20124223602484\n",
    "np.median(df['Share of seats in parliament'])\n",
    "#Median of Share of Seats is 20\n",
    "#Mode is line 146"
   ]
  },
  {
   "cell_type": "markdown",
   "metadata": {},
   "source": [
    "To measure political participation of women at national lavel, we calculated the mean and median for \"Share of Seats in Parliament\" held by women to be 22.2 and 20, respectively."
   ]
  },
  {
   "cell_type": "code",
   "execution_count": 57,
   "metadata": {},
   "outputs": [
    {
     "data": {
      "image/png": "[encoded data removed]",
      "text/plain": [
       "<Figure size 432x288 with 1 Axes>"
      ]
     },
     "metadata": {
      "needs_background": "light"
     },
     "output_type": "display_data"
    }
   ],
   "source": [
    "#Look at Number of Women's Orgs\n",
    "%matplotlib inline\n",
    "import matplotlib.pyplot as plt\n",
    "\n",
    "plt.hist(\"Number of Women’s Orgs\", bins=40, color='purple')\n",
    "plt.hist(\"Share of seats in parliament\", bins=40, color='pink')\n",
    "plt.title('Number of Organizations for Women')\n",
    "plt.xlabel('Random Values')\n",
    "plt.show()"
   ]
  },
  {
   "cell_type": "code",
   "execution_count": 63,
   "metadata": {
    "scrolled": true
   },
   "outputs": [
    {
     "data": {
      "text/plain": [
       "51.56875000000001"
      ]
     },
     "execution_count": 63,
     "metadata": {},
     "output_type": "execute_result"
    }
   ],
   "source": [
    "#Calculate MEAN \"Female Labour force participation rate \"\n",
    "np.mean(df['Female Labour force participation rate ']) \n",
    "#Mean is 51.56 percent"
   ]
  },
  {
   "cell_type": "markdown",
   "metadata": {},
   "source": [
    "We see that the mean rate of women participating in the global workforce is a little over 50 percent. However, this number does not reflect informal work or part-time work. "
   ]
  },
  {
   "cell_type": "code",
   "execution_count": 64,
   "metadata": {},
   "outputs": [
    {
     "data": {
      "text/plain": [
       "52.6"
      ]
     },
     "execution_count": 64,
     "metadata": {},
     "output_type": "execute_result"
    }
   ],
   "source": [
    "#Calculate MEDIAN \"Female Labour force participation rate \"\n",
    "np.median(df['Female Labour force participation rate '])"
   ]
  },
  {
   "cell_type": "markdown",
   "metadata": {},
   "source": [
    "Capstone focuses on GII, so we must convert object data type into numeric in line 65 so we can obtain descriptive statistics for this primary variable of interest. According to line 66, the mean of GII scores is .349, which is between the \"High\" and \"Medium\" Human Development Index categories that capstone will focus on in third analytical question."
   ]
  },
  {
   "cell_type": "code",
   "execution_count": 65,
   "metadata": {},
   "outputs": [
    {
     "name": "stdout",
     "output_type": "stream",
     "text": [
      "     HDI Rank   Category                             Country  \\\n",
      "0         168        Low                         Afghanistan   \n",
      "1          68       High                             Albania   \n",
      "2          85       High                             Algeria   \n",
      "3          47  Very high                           Argentina   \n",
      "4          83       High                             Armenia   \n",
      "..        ...        ...                                 ...   \n",
      "155        78       High  Venezuela (Bolivarian Republic of)   \n",
      "156       116     Medium                            Viet Nam   \n",
      "157       178        Low                               Yemen   \n",
      "158       144     Medium                              Zambia   \n",
      "159       156        Low                            Zimbabwe   \n",
      "\n",
      "     Gender Inequality Index  Gender Inequality Index Rank  \\\n",
      "0                      0.653                           153   \n",
      "1                      0.238                            52   \n",
      "2                      0.442                           100   \n",
      "3                      0.358                            81   \n",
      "4                      0.262                            55   \n",
      "..                       ...                           ...   \n",
      "155                    0.454                           105   \n",
      "156                    0.304                            67   \n",
      "157                    0.834                           160   \n",
      "158                    0.517                           125   \n",
      "159                    0.534                           128   \n",
      "\n",
      "    Maternal mortality ratio  Adolescent birth rate  \\\n",
      "0                        396                   64.5   \n",
      "1                         29                   20.7   \n",
      "2                        140                   10.1   \n",
      "3                         52                   62.8   \n",
      "4                         25                   23.2   \n",
      "..                       ...                    ...   \n",
      "155                       95                   85.3   \n",
      "156                       54                   27.3   \n",
      "157                      385                   60.4   \n",
      "158                      224                   82.8   \n",
      "159                      443                  104.1   \n",
      "\n",
      "    Internet users, female (% of female population)  Number of Women’s Orgs  \\\n",
      "0                                              0.59                     7.0   \n",
      "1                                             0.236                     1.0   \n",
      "2                                             0.447                     0.0   \n",
      "3                                             0.355                     4.0   \n",
      "4                                             0.263                     0.0   \n",
      "..                                              ...                     ...   \n",
      "155                                           0.459                     NaN   \n",
      "156                                           0.318                     NaN   \n",
      "157                                           0.835                     2.0   \n",
      "158                                           0.543                     1.0   \n",
      "159                                           0.528                     NaN   \n",
      "\n",
      "     Share of seats in parliament  \\\n",
      "0                            27.4   \n",
      "1                            27.9   \n",
      "2                            21.3   \n",
      "3                            38.9   \n",
      "4                            18.1   \n",
      "..                            ...   \n",
      "155                          22.2   \n",
      "156                          26.7   \n",
      "157                           0.5   \n",
      "158                          18.0   \n",
      "159                          36.2   \n",
      "\n",
      "     Female Population with at least some secondary education  \\\n",
      "0                                                 11.4          \n",
      "1                                                 93.1          \n",
      "2                                                 37.5          \n",
      "3                                                 65.9          \n",
      "4                                                 96.9          \n",
      "..                                                 ...          \n",
      "155                                               71.7          \n",
      "156                                               66.2          \n",
      "157                                               18.7          \n",
      "158                                               39.2          \n",
      "159                                               55.9          \n",
      "\n",
      "     Male Population with at least some secondary education  \\\n",
      "0                                                 36.9        \n",
      "1                                                 92.8        \n",
      "2                                                 37.9        \n",
      "3                                                 62.8        \n",
      "4                                                 97.6        \n",
      "..                                                 ...        \n",
      "155                                               66.6        \n",
      "156                                               77.7        \n",
      "157                                               34.8        \n",
      "158                                               52.4        \n",
      "159                                               66.3        \n",
      "\n",
      "     Female Labour force participation rate   \\\n",
      "0                                       19.5   \n",
      "1                                       47.2   \n",
      "2                                       15.2   \n",
      "3                                       47.3   \n",
      "4                                       51.4   \n",
      "..                                       ...   \n",
      "155                                     50.2   \n",
      "156                                     73.2   \n",
      "157                                      6.0   \n",
      "158                                     70.1   \n",
      "159                                     78.5   \n",
      "\n",
      "     Male Labor Force Participation Rate  \n",
      "0                                   86.7  \n",
      "1                                   64.9  \n",
      "2                                   67.3  \n",
      "3                                   73.2  \n",
      "4                                   70.6  \n",
      "..                                   ...  \n",
      "155                                 77.4  \n",
      "156                                 83.5  \n",
      "157                                 69.6  \n",
      "158                                 79.7  \n",
      "159                                 89.1  \n",
      "\n",
      "[160 rows x 14 columns]\n"
     ]
    }
   ],
   "source": [
    "df['Gender Inequality Index'] = df['Gender Inequality Index'].astype(float, errors='ignore')\n",
    "type(df['Gender Inequality Index'][0])\n",
    "print(df)"
   ]
  },
  {
   "cell_type": "code",
   "execution_count": 66,
   "metadata": {},
   "outputs": [
    {
     "data": {
      "text/plain": [
       "0.3497"
      ]
     },
     "execution_count": 66,
     "metadata": {},
     "output_type": "execute_result"
    }
   ],
   "source": [
    "np.mean(df['Gender Inequality Index'])"
   ]
  },
  {
   "cell_type": "markdown",
   "metadata": {},
   "source": [
    "First Analytical Question: To what extent does a Country's low GII correlate with a higher share of women holding seats in parliament? Is there a linear relationship? We see in line 37 that GII and Share of Women in Parliament is not a one to one relationship. Actually, we see that the highest shares of seats held by women in parliament actually are in countries scoring above .25 and even socring higher than .40 as indicated by pink dots in upper center within the figure."
   ]
  },
  {
   "cell_type": "code",
   "execution_count": 37,
   "metadata": {},
   "outputs": [
    {
     "data": {
      "image/png": "[encoded data removed]",
      "text/plain": [
       "<Figure size 432x288 with 1 Axes>"
      ]
     },
     "metadata": {
      "needs_background": "light"
     },
     "output_type": "display_data"
    }
   ],
   "source": [
    "#Let's analyze by creating Scatterplot of \"Gender Inequality Index\" on x-axis versus \"Share of seats in parliament\" on y-axis.\n",
    "\n",
    "%matplotlib inline\n",
    "import matplotlib.pyplot as plt\n",
    "import numpy as np\n",
    "\n",
    "plt.scatter(x=df['Gender Inequality Index'], y=df['Share of seats in parliament'], color='pink')\n",
    "plt.xlabel('Gender Inequality Index')\n",
    "plt.ylabel('Share of Women in Parliament')\n",
    "plt.title('GII Relation With Number of Women in Parliament')\n",
    "\n",
    "plt.show()"
   ]
  },
  {
   "cell_type": "markdown",
   "metadata": {},
   "source": [
    "Second Analytical Question: What's the Relationship of Number of Women's Organizations in Country relative to their Female Labor Force Participation?\n",
    "We see from our scatterplot entitled: \"Number of Women's Organizations Related to Labor Participation\" that it's not a linear relationship. Just because a country has a high number of women's organizations, as indicated by the x-axis, does not mean that the labor participation rate among women, as indicated by the y-axis is higher than mean of \"female labour force participation rate\", 51.56 percent. Countries with over 35 women's organizations have similar participation rates as countries with less than 10 women's organizations."
   ]
  },
  {
   "cell_type": "code",
   "execution_count": 38,
   "metadata": {},
   "outputs": [
    {
     "data": {
      "image/png": "[encoded data removed]",
      "text/plain": [
       "<Figure size 432x288 with 1 Axes>"
      ]
     },
     "metadata": {
      "needs_background": "light"
     },
     "output_type": "display_data"
    }
   ],
   "source": [
    "#Analyze by creating Scatterplot of 'Number of Women's Orgs' versus \"Female Labour Force Participation\" noting that\n",
    "#the data for organizations is from another source.\n",
    "plt.scatter(x=df[\"Number of Women’s Orgs\"], y=df['Female Labour force participation rate '], color='purple')\n",
    "plt.xlabel(\"Number of Women’s Orgs\")\n",
    "plt.ylabel('Female Labour force participation rate')\n",
    "plt.title(\"Number of Women's Organizations Related to Labor Participation\")\n",
    "\n",
    "plt.show()"
   ]
  },
  {
   "cell_type": "markdown",
   "metadata": {},
   "source": [
    "Third Analytical Question: Is there a statistically significant difference between \"High\" and \"Medium\" developed countries regarding their GII?\n",
    "GII scores do not necessarily cluster together across \"Very High\", \"High\", \"Medium\", and \"Low\" Human development groups regarding Gender Inequality Index.\n",
    "\n",
    "1-Very high human development GII average score\t0.170\n",
    "2-High human development GII average score\t0.289\n",
    "3-Medium human development GII average score\t0.489\n",
    "4-Low human development\tGII average score  0.586\n",
    "Capstone identifies two populations (country) groups: \"high and \"medium\" to compare their GII scores."
   ]
  },
  {
   "cell_type": "code",
   "execution_count": null,
   "metadata": {},
   "outputs": [],
   "source": [
    "#Country one inclues all \"High Human Development Index\" category\"\n",
    "import numpy as np\n",
    "import pandas as pd\n",
    "import scipy\n",
    "import matplotlib.pyplot as plt\n",
    "%matplotlib inline\n",
    "\n",
    "df = pd.DataFrame()\n",
    "\n",
    "df[\"country1\"]=[109,64,69,84,109,40,52,73,78,65,76,80,37,105,94,71,85,35,55,93,100,36,88,61,83,87,74,79,\n",
    "         65,103,108,63,95,96,99,98,76,82,59,89,38,128,113,48]\n",
    "sum(df['country1']) / len(df['country1'])\n",
    "\n",
    "\n",
    "#78.22 = Mean for \"country1\", or \"High Human Development Index\" category. Need SD."
   ]
  },
  {
   "cell_type": "code",
   "execution_count": 51,
   "metadata": {},
   "outputs": [
    {
     "data": {
      "text/plain": [
       "3.4700262344883894"
      ]
     },
     "execution_count": 51,
     "metadata": {},
     "output_type": "execute_result"
    }
   ],
   "source": [
    "np.std(df['country1'] ,ddof=1) / np.sqrt(len(df['country1']))\n",
    "#Standard deviation =3.47"
   ]
  },
  {
   "cell_type": "code",
   "execution_count": 52,
   "metadata": {},
   "outputs": [
    {
     "data": {
      "text/plain": [
       "114.03225806451613"
      ]
     },
     "execution_count": 52,
     "metadata": {},
     "output_type": "execute_result"
    }
   ],
   "source": [
    "#Calculate the mean and Standard Deviation for Country2, which is the second population. They represent the group of countries \n",
    "#with \"Medium Human Development Index\" category.\n",
    "df = pd.DataFrame()\n",
    "\n",
    "df[\"country2\"]=[97,90,101,104,67,102,123,91,91,119,106,122,120,69,115,127,109,117,134,143,109,131,137,131,\n",
    "         141,125,116,106,118,133,141]\n",
    "sum(df[\"country2\"]) / len(df[\"country2\"])\n",
    "#114.0322 = Mean for \"Country2\", or \"Medium Human Development Index\" category. Need SD for Country2 group"
   ]
  },
  {
   "cell_type": "code",
   "execution_count": 53,
   "metadata": {},
   "outputs": [
    {
     "data": {
      "text/plain": [
       "3.507437219900526"
      ]
     },
     "execution_count": 53,
     "metadata": {},
     "output_type": "execute_result"
    }
   ],
   "source": [
    "#Calculate Standard Deviation for second country group population.\n",
    "np.std(df[\"country2\"],ddof=1) / np.sqrt(len(df[\"country2\"]))\n",
    "\n",
    "#3.5074 = Standard Deviation for \"Medium Human Development Index\" category"
   ]
  },
  {
   "cell_type": "code",
   "execution_count": 58,
   "metadata": {},
   "outputs": [
    {
     "name": "stdout",
     "output_type": "stream",
     "text": [
      "2.090909090909091\n",
      "5.096774193548387\n",
      "1.0405021038417817\n",
      "1.573056172933756\n",
      "3.005865102639296\n"
     ]
    },
    {
     "data": {
      "image/png": "[encoded data removed]",
      "text/plain": [
       "<Figure size 432x288 with 1 Axes>"
      ]
     },
     "metadata": {
      "needs_background": "light"
     },
     "output_type": "display_data"
    }
   ],
   "source": [
    "# Sample sizes 161 for histogram of 'High' and 'Medium' HDI countries\n",
    "country1 = np.random.binomial(10, 0.2, 161)\n",
    "country2 = np.random.binomial(10,0.5, 161) \n",
    "\n",
    "sample1 = np.random.choice(country1, 44, replace=True)\n",
    "sample2 = np.random.choice(country2, 31, replace=True)\n",
    "\n",
    "print(sample1.mean())\n",
    "print(sample2.mean())\n",
    "print(sample1.std())\n",
    "print(sample2.std())\n",
    "\n",
    "# Compute the difference between the two sample means.\n",
    "diff=sample2.mean( ) -sample1.mean()\n",
    "print(diff)\n",
    "\n",
    "plt.hist(sample1, alpha=0.5, label='High HDI category', color = 'red') \n",
    "plt.hist(sample2, alpha=0.5, label='Medium HDI category', color = 'blue') \n",
    "plt.legend(loc='upper right') \n",
    "plt.show()\n",
    "\n",
    " "
   ]
  },
  {
   "cell_type": "markdown",
   "metadata": {},
   "source": [
    "Note overlap of purple particularly between 3 and 4. High and Medium Human Development Index categories overlap in their GII scores. Does this mean there's a thresshold that's easier for top tier medium HDI countries to cross over into high HDI category if they improve their GII scores within 1 standard deviation?"
   ]
  },
  {
   "cell_type": "code",
   "execution_count": 59,
   "metadata": {},
   "outputs": [
    {
     "name": "stdout",
     "output_type": "stream",
     "text": [
      "9.301657204832392\n"
     ]
    }
   ],
   "source": [
    "# T-Test Attempt needs standard error.\n",
    "# Calculate the standard error of the sampling distribution of the difference of the means\n",
    "size = np.array([len(sample1), len(sample2)])\n",
    "sd = np.array([sample1.std(), sample2.std()])\n",
    "\n",
    "# The squared standard deviations are divided by the sample size and summed, then we take\n",
    "# the square root of the sum. \n",
    "diff_se = (sum(sd ** 2 / size)) ** 0.5  \n",
    "\n",
    "#The difference between the means divided by the standard error: T-value.  \n",
    "print(diff/diff_se)"
   ]
  },
  {
   "cell_type": "code",
   "execution_count": 60,
   "metadata": {},
   "outputs": [
    {
     "name": "stdout",
     "output_type": "stream",
     "text": [
      "Ttest_indResult(statistic=9.160932099867356, pvalue=4.124515596803157e-12)\n"
     ]
    }
   ],
   "source": [
    "from scipy.stats import ttest_ind\n",
    "print(ttest_ind(sample2, sample1, equal_var=False))"
   ]
  },
  {
   "cell_type": "markdown",
   "metadata": {},
   "source": [
    "Concluding Remarks:\n",
    "The T-value = 9.16 and the p-value is less than .000000000004  Therefore we reject Null hypothesis that the two samples are the same. The p-value in the test above is really small, so we can be fairly confident that the difference in means is not coicidental. We see that the difference is due to a real difference in the population and not due to variability in the samples.\n",
    "\n",
    "Although the capstone results showed that over half of the women, on average participate in the workforce, we did not run t-tests to compare if countries with lower GII scores correlate with higher or lower than average female workforce participation. Given this information, we could develop hypotheses about how gender equity afford more labor choices and if gender inequalities push women to seek certain types of work.\n",
    "\n",
    "The capstone could have more rigorously explored the \"Internet users, female (% of female population)\", which represents access to information and how they may grow and leverage other social capital opportunities to increase their economic or political participation. \n",
    "\n",
    "Also, we could have dug deeper into the \"Share of Parliament Seats\" index by running additional t-test across regions that fit within the same HDI category to address regional or cultural biases. For example, next time, I would like to focus in on Arab and MENA regions since they do not rank in the \"Very High\" HDI category but vary more in their HDI scores than their GII scores. To address the UN data limitation of not referencing local and civic engagement, we would have to concontenate the data set to include data sources tracking number of women running for local office, holding municipal seats, and registered number of women's organizations from a more robust data source tracking women's empowerment, such as regional organizing councils or international nongovernmental organizations, like Vital Voices."
   ]
  }
 ],
 "metadata": {
  "kernelspec": {
   "display_name": "Python 3",
   "language": "python",
   "name": "python3"
  },
  "language_info": {
   "codemirror_mode": {
    "name": "ipython",
    "version": 3
   },
   "file_extension": ".py",
   "mimetype": "text/x-python",
   "name": "python",
   "nbconvert_exporter": "python",
   "pygments_lexer": "ipython3",
   "version": "3.7.4"
  }
 },
 "nbformat": 4,
 "nbformat_minor": 2
}
